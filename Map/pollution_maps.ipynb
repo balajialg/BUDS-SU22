{
 "cells": [
  {
   "cell_type": "code",
   "execution_count": null,
   "metadata": {},
   "outputs": [],
   "source": [
    "import warnings\n",
    "warnings.filterwarnings('ignore')\n",
    "\n",
    "from datascience import *\n",
    "import pandas as pd\n",
    "import numpy as np\n",
    "import matplotlib.pyplot as plt\n",
    "\n",
    "%matplotlib inline\n",
    "plt.style.use('fivethirtyeight')"
   ]
  },
  {
   "cell_type": "markdown",
   "metadata": {},
   "source": [
    "# Pollution Maps"
   ]
  },
  {
   "cell_type": "markdown",
   "metadata": {},
   "source": [
    "In this report we introduce maps! Some data has geospatial features such as latitude and longitude, giving us the opportunity to understand how instances of our data are spread across different locations. "
   ]
  },
  {
   "cell_type": "markdown",
   "metadata": {},
   "source": [
    "<img src=\"longitude-and-latitude.png\">"
   ]
  },
  {
   "cell_type": "markdown",
   "metadata": {},
   "source": [
    "## The Data Science Life Cycle - Table of Contents\n",
    "\n",
    "<a href='#section 0'>Background Knowledge</a>\n",
    "\n",
    "<a href='#subsection 1a'>Formulating a question or problem</a> \n",
    "\n",
    "<a href='#subsection 1b'>Acquiring and preparing data</a>\n",
    "\n",
    "<a href='#subsection 1c'>Conducting exploratory data analysis</a>\n",
    "\n",
    "<a href='#subsection 1d'>Using prediction and inference to draw conclusions</a>\n",
    "<br><br>"
   ]
  },
  {
   "cell_type": "markdown",
   "metadata": {},
   "source": [
    "## Background<a id='section 0'></a>"
   ]
  },
  {
   "cell_type": "markdown",
   "metadata": {},
   "source": [
    "In 2004, California introduced the Environmental Justice Action Plan to study the impact of multiple pollution sources on California communities. \n",
    "\n",
    "While California has some of the strictest regulatory controls in the country, many communities in California struggle with a disproportionate share of environmental pollution. \n",
    "Some parts of the state are burdened by old industrial and agricultural practices, while others are close to\n",
    "trade corridors and suffer from high levels of air pollution. \n",
    " \n",
    "The California Environmental Protection Agency (CalEPA) and the California Office of Health Hazard Assessment (OEHHA)\n",
    "and the public developed the CalEnviroScreen project to help assess the impact of pollution on California communities. \n",
    "\n"
   ]
  },
  {
   "cell_type": "markdown",
   "metadata": {},
   "source": [
    "## Formulating a question or problem <a id='subsection 1a'></a>"
   ]
  },
  {
   "cell_type": "markdown",
   "metadata": {},
   "source": [
    "It is impotant to ask questions that will be informative and that will avoid misleading results. \n",
    "\n",
    "There are many different questions we could ask about the impact of pollution on California communities. For example, researchers use maps to draw relationships between land type, environmental pollution, and population demographics. Take a look at the important fields in the dataset that you will focus on below to aid in your question(s)."
   ]
  },
  {
   "cell_type": "markdown",
   "metadata": {},
   "source": [
    "<div class=\"alert alert-info\">\n",
    "<b>Question:</b> Take some time to formulate questions you have and the data you would need to answer the questions.\n",
    "</div> "
   ]
  },
  {
   "cell_type": "markdown",
   "metadata": {},
   "source": [
    "<b>Your questions:</b> *Insert answer here*\n",
    "\n",
    "<b>Data you would need:</b> *Insert answer here*"
   ]
  },
  {
   "cell_type": "markdown",
   "metadata": {},
   "source": [
    "## Acquiring and preparing data <a id='subsection 1b'></a>"
   ]
  },
  {
   "cell_type": "markdown",
   "metadata": {},
   "source": [
    "The California Environmental Screening project, CalEnviroScreen, provides data on air, water, and pollution (e.g., ozone levels, airborne particulate matter, pesticides, traffic congestion). CalEnviroScreen, CES for short, has combined this information into a pollution  score. You can find raw data [here](https://oehha.ca.gov/calenviroscreen).\n",
    "\n",
    "The data provided here includes environmental and population information across different census tracts in California. Census tracts from the U.S. Census Bureau (2010 census) represent small, relatively permanent subdivisons of a county, and are uniquely numbered in each county with a numeric code. Census tracts average about 4,000 people, but are 1,200 at minimum and 8,000 at maximum. "
   ]
  },
  {
   "cell_type": "code",
   "execution_count": null,
   "metadata": {},
   "outputs": [],
   "source": [
    "ces_raw = Table.read_table(\"pollution_data/ces_data_v2.csv\")"
   ]
  },
  {
   "cell_type": "markdown",
   "metadata": {},
   "source": [
    "Here are some of the important fields in the dataset that you will focus on:\n",
    "\n",
    "|Column Name   | Description |\n",
    "|:---|:---|\n",
    "|Total.Population | Census tract population |\n",
    "|California.County | County name |\n",
    "|Latitude | Measurement of location north or south of the equator | \n",
    "|Longitude | Measurement of location east or west of the north-south line |\n",
    "|Hispanic....| Percent of population that is Hispanic |\n",
    "|White.... | Precent of population that is non-Hispanic White |\n",
    "|African.American.... | Precent of population that is African American |\n",
    "|Ozone| Average daily maximum ozone concnetration (ppm) from May to October |\n",
    "|PM2.5 | Average concentration of fine particulate matter (micro-gram per meter cubed) |\n",
    "|Pollution.Burden | Pollution Burden scores for each census tract derived from exposures indicators (ozone and PM2.5 concentrations, diesel PM emissions, drinking water contaminants, pesticide use, toxic releases from facilities, and traffic density) and environmental effects indicators (cleanup sites, impaired water bodies, groundwater threats, hazardous waste facilities and generators, and solid waste sites and facilities) |\n",
    "|Asthma | Emergency department visits for asthma per 10,000 people |\n",
    "|Low.Birth.Weight | Percent of babies born weighing under 5.5 pounds |\n",
    "|Poverty | Percent of the population living below two times the federal poverty level |\n",
    "|Unemployment | Percent of the population over 16 that is unemployed and eligible for the labor force |"
   ]
  },
  {
   "cell_type": "code",
   "execution_count": null,
   "metadata": {},
   "outputs": [],
   "source": [
    "ces_raw.show(10)"
   ]
  },
  {
   "cell_type": "markdown",
   "metadata": {},
   "source": [
    "Part of **cleaning data** includes **renaming columns**, **reducing the table size to include only the columns of interest**, and **removing missing values**.  \n",
    "\n",
    "For our purposes, we will not be using the columns:\n",
    "- ZIP\n",
    "- CES.3.0.Score\n",
    "- Diesel.PM\n",
    "- Drinking.Water\n",
    "- Pesticides\n",
    "- Tox..Release\n",
    "- Traffic\n",
    "- Cleanup.Sites\n",
    "- Groundwater.Threats\n",
    "- Haz..Waste\n",
    "- Imp..Water.Bodies\n",
    "- Solid.Waste\n",
    "\n",
    "Keep the column `Census.Tract` because it uniquely identifies the census tract.  Also keep `Pollution.Burden`, race columns, health indicators, and a few pollution indicators that you identified earlier.  "
   ]
  },
  {
   "cell_type": "markdown",
   "metadata": {},
   "source": [
    "<div class=\"alert alert-info\">\n",
    "<b>Question:</b> Fill the array \"cols_to_drop\" with the names of the columns we seek to remove from our dataset.</div> "
   ]
  },
  {
   "cell_type": "code",
   "execution_count": null,
   "metadata": {},
   "outputs": [],
   "source": [
    "cols_to_drop = make_array(\"...\", \"...\", \"...\", \"...\", \"...\", \n",
    "                          \"...\", \"...\", \"...\", \"...\", \"...\", \n",
    "                          \"...\", \"...\")\n",
    "\n",
    "ces_data = ces_raw.drop(cols_to_drop)\n",
    "ces_data"
   ]
  },
  {
   "cell_type": "markdown",
   "metadata": {},
   "source": [
    "Let's give some of the remaining columns simpler, more meaningful names."
   ]
  },
  {
   "cell_type": "code",
   "execution_count": null,
   "metadata": {},
   "outputs": [],
   "source": [
    "old_names = make_array('Census.Tract', 'Total.Population', 'California.County', 'Hispanic....', \"White....\", \n",
    "            'African.American....', 'Native.American....', \"Asian.American....\", 'Other....', 'Pollution.Burden',\n",
    "            'Low.Birth.Weight')\n",
    "new_names = make_array('Tract', 'Population', 'County', 'Hispanic', \"White\", 'Black', 'Native', \"Asian\", 'Other', 'Pollution_Burden',\n",
    "            'Low_Birthweight')"
   ]
  },
  {
   "cell_type": "code",
   "execution_count": null,
   "metadata": {},
   "outputs": [],
   "source": [
    "ces_data = ces_data.relabel(old_names, new_names)\n",
    "ces_data"
   ]
  },
  {
   "cell_type": "markdown",
   "metadata": {},
   "source": [
    "## Conducting exploratory data analysis <a id='subsection 1c'></a>"
   ]
  },
  {
   "cell_type": "markdown",
   "metadata": {},
   "source": [
    "We are interested in studying the impact of pollution on different communities in California. With maps, we can get a spatial understanding of how levels of pollution vary across different geographical regions.\n",
    "\n",
    "\n",
    "We will be using two different map types to give us insight: a **dot map** and a **size map**. "
   ]
  },
  {
   "cell_type": "markdown",
   "metadata": {},
   "source": [
    "### Dot map\n",
    "\n",
    "Dot maps are a simple map with a dot at each (lat, long) pair from our data. \n",
    "\n",
    "The next cell creates a function called <b>dot_map</b> which we will use to create a dot map. "
   ]
  },
  {
   "cell_type": "code",
   "execution_count": null,
   "metadata": {},
   "outputs": [],
   "source": [
    "def dot_map(tbl):\n",
    "    \"\"\"Create a map with dots to represent a unique location.\n",
    "    \n",
    "    Parameters:\n",
    "        tbl (datascience.Table): The Table containing the data needed to plot our map. Note the table\n",
    "        must have a \"Latitude\" and \"Longitude\" column for this function to work.\n",
    "    Returns:\n",
    "        (datascience.Map): A map with a dot at each unique (lat, long) pair.\n",
    "    \"\"\"\n",
    "    reduced = tbl.select(\"Latitude\", \"Longitude\")\n",
    "    return Circle.map_table(reduced, area=10, fill_opacity=1)"
   ]
  },
  {
   "cell_type": "markdown",
   "metadata": {},
   "source": [
    "<div class=\"alert alert-danger\" role=\"alert\">\n",
    "    <b>Example:</b> Let's start with a dot map that displays all of our census tracts. To do so, we can pass in our table <code>ces_data</code> into <b>dot_map</b>.\n",
    "</div>"
   ]
  },
  {
   "cell_type": "code",
   "execution_count": null,
   "metadata": {},
   "outputs": [],
   "source": [
    "dot_map(ces_data)"
   ]
  },
  {
   "cell_type": "markdown",
   "metadata": {},
   "source": [
    "<b>Next, we would like to create dot maps for census tracts that fit certain criteria. For example, let's focus on a specific county, then visualize different important fields.</b>"
   ]
  },
  {
   "cell_type": "markdown",
   "metadata": {},
   "source": [
    "<div class=\"alert alert-info\"> \n",
    "<b>Question:</b> Make a simple dot map for only Los Angeles county census tracts using the table <code>ces_data</code>.\n",
    "</div>"
   ]
  },
  {
   "cell_type": "code",
   "execution_count": null,
   "metadata": {},
   "outputs": [],
   "source": [
    "dot_la = ces_data.where(\"...\", are.equal_to(\"...\"))"
   ]
  },
  {
   "cell_type": "code",
   "execution_count": null,
   "metadata": {},
   "outputs": [],
   "source": [
    "dot_map(dot_la)"
   ]
  },
  {
   "cell_type": "markdown",
   "metadata": {},
   "source": [
    "<div class=\"alert alert-info\"> \n",
    "<b>Question:</b> Make a simple dot map where pollution burden is greater than 70 for census tracts using the table  <code>dot_la</code>.\n",
    "</div>"
   ]
  },
  {
   "cell_type": "code",
   "execution_count": null,
   "metadata": {},
   "outputs": [],
   "source": [
    "dot_la_70 = dot_la.where(\"...\", are.above(...))"
   ]
  },
  {
   "cell_type": "code",
   "execution_count": null,
   "metadata": {
    "scrolled": true
   },
   "outputs": [],
   "source": [
    "dot_map(dot_la_70)"
   ]
  },
  {
   "cell_type": "markdown",
   "metadata": {},
   "source": [
    "<div class=\"alert alert-info\"> \n",
    "<b>Question:</b> Make a simple dot map where the of the population living below two times the federal poverty level is above 75% using the table <code>dot_la</code>.\n",
    "</div>"
   ]
  },
  {
   "cell_type": "code",
   "execution_count": null,
   "metadata": {},
   "outputs": [],
   "source": [
    "dot_la_poverty = dot_la.where(\"...\", are.above(...))"
   ]
  },
  {
   "cell_type": "code",
   "execution_count": null,
   "metadata": {
    "scrolled": true
   },
   "outputs": [],
   "source": [
    "dot_map(dot_la_poverty)"
   ]
  },
  {
   "cell_type": "markdown",
   "metadata": {},
   "source": [
    "<div class=\"alert alert-info\"> \n",
    "<b>Question:</b> What inference can we draw from the pollution burden and poverty dot maps? What are some important considerations to this inference?\n",
    "</div>"
   ]
  },
  {
   "cell_type": "markdown",
   "metadata": {},
   "source": [
    "*Insert answer here*"
   ]
  },
  {
   "cell_type": "markdown",
   "metadata": {},
   "source": [
    "### Size map\n",
    "\n",
    "Size maps are detail-oriented maps, using color and size data to add more visual information to our map. \n",
    "\n",
    "The next cell creates a function called <b>size_map</b> which we will use to create a size map."
   ]
  },
  {
   "cell_type": "code",
   "execution_count": null,
   "metadata": {},
   "outputs": [],
   "source": [
    "def size_map(tbl):\n",
    "    \"\"\"Plots a geographical map where each dot represents a coordinate pair, scaled by a given column.\n",
    "    \n",
    "    Parameters:\n",
    "        tbl: The input Table containing the following arguments, in order:\n",
    "            Col 0: latitude\n",
    "            Col 1: longitude\n",
    "            Col 2: type of location\n",
    "            Col 3: color (MUST be labeled \"colors\")\n",
    "            Col 4: area (MUST be labeled \"areas\")\n",
    "    Returns:\n",
    "        (datascience.Map): A map with a dot at each (lat, long),\n",
    "                        colored according to Col 3,area as in Col 4.\n",
    "    \"\"\"\n",
    "    return Circle.map_table(tbl, fill_opacity=0.7)"
   ]
  },
  {
   "cell_type": "markdown",
   "metadata": {},
   "source": [
    "Compared to our function <b>dot_map</b>, this requires a table of a specific format for the table:\n",
    "\n",
    "| Latitude | Longitude | type | colors | areas\n",
    "|:---|:---|:---|:---|:---\n",
    "|...|...|...|...|..."
   ]
  },
  {
   "cell_type": "markdown",
   "metadata": {},
   "source": [
    "The next two cells create functions <b>get_colors_from_column</b> and <b>get_areas_from_column</b> which will help us create Col 3: colors and Col 4: areas! \n",
    "\n",
    "Don't worry about the code. We'll explain how to use them in the example."
   ]
  },
  {
   "cell_type": "code",
   "execution_count": null,
   "metadata": {},
   "outputs": [],
   "source": [
    "#Use this function in order to get our Col 3: color for size_map\n",
    "def get_colors_from_column(tbl, col, include_outliers=False):\n",
    "    \"\"\"Assigns each row of the input table to a color based on the value of its percentage column.\"\"\"\n",
    "    vmin = min(tbl.column(col))\n",
    "    vmax = max(tbl.column(col))\n",
    "\n",
    "    if include_outliers:\n",
    "        outlier_min_bound = vmin\n",
    "        outlier_max_bound = vmax\n",
    "    else:\n",
    "        q1 = np.percentile(tbl.column(col), 25)\n",
    "        q3 = np.percentile(tbl.column(col), 75)\n",
    "        IQR = q3 - q1\n",
    "        outlier_min_bound = max(vmin, q1 - 1.5 * IQR)\n",
    "        outlier_max_bound = min(vmax, q3 + 1.5 * IQR)\n",
    "        \n",
    "    colorbar_scale = list(np.linspace(outlier_min_bound, outlier_max_bound, 10))\n",
    "    scale_colors = ['#006100', '#3c8000', '#6ba100', '#a3c400', '#dfeb00', '#ffea00', '#ffbb00', '#ff9100', '#ff6200', '#ff2200']\n",
    "    \n",
    "    def assign_color(colors, cutoffs, datapoint):\n",
    "        \"\"\"Assigns a color to the input percent based on the data's distribution.\"\"\"\n",
    "        for i, cutoff in enumerate(cutoffs):\n",
    "            if cutoff >= datapoint:\n",
    "                return colors[i - 1] if i > 0 else colors[0]\n",
    "        return colors[-1]\n",
    "    \n",
    "    colors = [\"\"] * tbl.num_rows\n",
    "    for i, datapoint in enumerate(tbl.column(col)): \n",
    "        colors[i] = assign_color(scale_colors, colorbar_scale, datapoint)\n",
    "        \n",
    "    return colors"
   ]
  },
  {
   "cell_type": "code",
   "execution_count": null,
   "metadata": {},
   "outputs": [],
   "source": [
    "# Use this function in order to get our Col 4: size for size_map\n",
    "def get_areas_from_column(tbl, label):\n",
    "    \"\"\"Gets the array values corresponding to the column label in the input table.\"\"\"\n",
    "    areas = tbl.column(label)\n",
    "    areas[areas == 0] = np.nan\n",
    "    return areas"
   ]
  },
  {
   "cell_type": "markdown",
   "metadata": {},
   "source": [
    "<b>For size maps, let's continue with our data focusing on Los Angeles county using the</b> <code>size_la</code> <b>table.</b>"
   ]
  },
  {
   "cell_type": "code",
   "execution_count": null,
   "metadata": {},
   "outputs": [],
   "source": [
    "size_la = ces_data.where(\"County\", are.equal_to(\"Los Angeles\"))\n",
    "size_la.show(10)"
   ]
  },
  {
   "cell_type": "markdown",
   "metadata": {},
   "source": [
    "<div class=\"alert alert-danger\"> \n",
    "<b>Example:</b> Let's start with creating a population size map. To do so, we will:\n",
    "      <ol>\n",
    "        <li>Pass in our table and column data we wish to work with as our arguments to the function <b>get_colors_from_column</b>. It will return an array with strings that represent colors in hexadecimal format. Larger values will result in green-yellow-orange-red shades in the map.</li>\n",
    "        <li>Pass in our table and column data we wish to work with as our arguments to the function <b>get_areas_from_columns</b>. It will return an array just like .column does. Larger values will result in larger circles by area in the map.\n",
    "        <li>Create a new table selecting \"Latitude\" and \"Longitude\", then adding in the columns \"type\", \"colors\", and \"areas\". \n",
    "    </ol>\n",
    "</div>"
   ]
  },
  {
   "cell_type": "code",
   "execution_count": null,
   "metadata": {},
   "outputs": [],
   "source": [
    "# Step 1: Use function get_colors_from_column (arguments: size_la, \"Population\")\n",
    "la_pop_colors = get_colors_from_column(size_la, \"Population\")\n",
    "\n",
    "# Step 2: Use function get_areas_from_column (arguments: size_la, \"Population\")\n",
    "la_pop_areas = get_areas_from_column(size_la, \"Population\") * 0.10 # Reduce area size by 90%"
   ]
  },
  {
   "cell_type": "code",
   "execution_count": null,
   "metadata": {},
   "outputs": [],
   "source": [
    "# Step 3: Create a new table\n",
    "la_pop_tbl = size_la.select(\"Latitude\", \"Longitude\").with_columns(\"type\", \"Population\",\n",
    "                                                                    \"colors\", la_pop_colors,\n",
    "                                                                    \"areas\", la_pop_areas)"
   ]
  },
  {
   "cell_type": "code",
   "execution_count": null,
   "metadata": {
    "scrolled": true
   },
   "outputs": [],
   "source": [
    "size_map(la_pop_tbl)"
   ]
  },
  {
   "cell_type": "markdown",
   "metadata": {},
   "source": [
    "<i>Note: The area size for all dots are reduced by 90% for visual purposes.</i>"
   ]
  },
  {
   "cell_type": "markdown",
   "metadata": {},
   "source": [
    "<div class=\"alert alert-info\"> \n",
    "<b>Question:</b> Create a size map to map the <b>Pollution Burden</b> values for LA County census tracts.\n",
    "    \n",
    "Recall, <b>Pollution_Burden</b> represents the potential exposures to pollutants and the adverse environmental conditions caused by pollution in a given census tract.\n",
    "</div>"
   ]
  },
  {
   "cell_type": "code",
   "execution_count": null,
   "metadata": {},
   "outputs": [],
   "source": [
    "pollution_colors = get_colors_from_column(size_la, \"...\") \n",
    "pollution_areas = get_areas_from_column(size_la, \"...\") * 3 # Increase area size by 200%\n",
    "\n",
    "pollution_tbl = size_la.select(\"Latitude\", \"Longitude\").with_columns(\"type\", \"...\",\n",
    "                                                                      \"colors\", pollution_colors,\n",
    "                                                                      \"areas\", pollution_areas)"
   ]
  },
  {
   "cell_type": "code",
   "execution_count": null,
   "metadata": {},
   "outputs": [],
   "source": [
    "pollution_tbl.show(10)"
   ]
  },
  {
   "cell_type": "code",
   "execution_count": null,
   "metadata": {
    "scrolled": true
   },
   "outputs": [],
   "source": [
    "size_map(pollution_tbl)"
   ]
  },
  {
   "cell_type": "markdown",
   "metadata": {},
   "source": [
    "<i>Note: The area size for all dots are increased by 100% for visual purposes.</i>"
   ]
  },
  {
   "cell_type": "markdown",
   "metadata": {},
   "source": [
    "<div class=\"alert alert-info\"> \n",
    "    <b>Question:</b> Now, create a size map to map the <b>Poverty</b> values for LA County census tracts.\n",
    "\n",
    "Recall, <b>Poverty</b> is the percent of the population living below two times the federal poverty level in a given census tract.\n",
    "</div>"
   ]
  },
  {
   "cell_type": "code",
   "execution_count": null,
   "metadata": {},
   "outputs": [],
   "source": [
    "pov_colors = get_colors_from_column(..., \"...\")\n",
    "pov_areas = get_areas_from_column(..., \"...\") * 3 # Increase area size by 200%\n",
    "\n",
    "poverty_tbl = size_la.select(\"Latitude\", \"Longitude\").with_columns(\"type\", \"...\",\n",
    "                                                                    \"colors\", pov_colors,\n",
    "                                                                    \"areas\", pov_areas)"
   ]
  },
  {
   "cell_type": "code",
   "execution_count": null,
   "metadata": {},
   "outputs": [],
   "source": [
    "poverty_tbl.show(10)"
   ]
  },
  {
   "cell_type": "code",
   "execution_count": null,
   "metadata": {
    "scrolled": true
   },
   "outputs": [],
   "source": [
    "size_map(poverty_tbl)"
   ]
  },
  {
   "cell_type": "markdown",
   "metadata": {},
   "source": [
    "<i>Note: The area size for all dots are increased by 100% for visual purposes.</i>"
   ]
  },
  {
   "cell_type": "markdown",
   "metadata": {},
   "source": [
    "## Using prediction and inference to draw conclusions <a id='subsection 1d'></a>"
   ]
  },
  {
   "cell_type": "markdown",
   "metadata": {},
   "source": [
    "<div class=\"alert alert-info\"> \n",
    "<b>Question:</b> After seeing these map visualizations, tell us something interesting about this data. What detail were you able to uncover?\n",
    "\n",
    "</div>"
   ]
  },
  {
   "cell_type": "markdown",
   "metadata": {},
   "source": [
    "*Insert answer here*"
   ]
  },
  {
   "cell_type": "markdown",
   "metadata": {},
   "source": [
    "<div class=\"alert alert-info\"> \n",
    "<b>Question:</b> Visualizing race and ethnicity distributions with different measures of pollution and demographics using maps provides one line of insight into the impacts of systemic racism and environmental injustice. For example, communities of color and the poor often expereince disproportionate exposure to pollution as a result of unequal protections through laws, regulations, and more. Let's take a into this for LA County using Census data.\n",
    "<br>\n",
    "    \n",
    "Create a size map to map either \"Hispanic\", \"White\", \"Black\", \"Asian\", or \"Other\" for all LA census tracts. Feel free to explore all options.\n",
    "<hr>\n",
    "    \n",
    "<b>Note:</b> For each census tract, the percentages of Hispanic, White, Black, Asian, and Other add up to 100%\n",
    "</div>"
   ]
  },
  {
   "cell_type": "code",
   "execution_count": null,
   "metadata": {},
   "outputs": [],
   "source": [
    "final_colors = get_colors_from_column(..., \"...\")\n",
    "final_areas = get_areas_from_column(..., \"...\") \n",
    "\n",
    "final_tbl = size_la.select(\"Latitude\", \"Longitude\").with_columns(\"type\", \"...\",\n",
    "                                                                    \"colors\", final_colors,\n",
    "                                                                    \"areas\", final_areas)"
   ]
  },
  {
   "cell_type": "code",
   "execution_count": null,
   "metadata": {},
   "outputs": [],
   "source": [
    "final_tbl"
   ]
  },
  {
   "cell_type": "code",
   "execution_count": null,
   "metadata": {},
   "outputs": [],
   "source": [
    "size_map(final_tbl)"
   ]
  },
  {
   "cell_type": "markdown",
   "metadata": {},
   "source": [
    "<div class=\"alert alert-info\"> \n",
    "<b>Question:</b> What connections are you able to make between the race and ethinicity maps with pollution burden and poverty maps? What are your thoughts?\n",
    "\n",
    "</div>"
   ]
  },
  {
   "cell_type": "markdown",
   "metadata": {},
   "source": [
    "*Insert answer here*"
   ]
  },
  {
   "cell_type": "markdown",
   "metadata": {},
   "source": [
    "<div class=\"alert alert-success\" role=\"alert\">\n",
    "  <h2 class=\"alert-heading\">Well done!</h2>\n",
    "    <p>In this report you used real-world data from CalEPA to draw maps that give you more insight on relationships between pollution and demographics.\n",
    "    <hr>\n",
    "    <p> Notebook created for Berkeley Unboxing Data Science 2021 \n",
    "    <p> Adapted from Project: Pollution by Carlos Ortiz with the support of Ani Adhikari, Deb Nolan, and Will Furtado\n",
    "</div>"
   ]
  }
 ],
 "metadata": {
  "kernelspec": {
   "display_name": "Python 3 (ipykernel)",
   "language": "python",
   "name": "python3"
  },
  "language_info": {
   "codemirror_mode": {
    "name": "ipython",
    "version": 3
   },
   "file_extension": ".py",
   "mimetype": "text/x-python",
   "name": "python",
   "nbconvert_exporter": "python",
   "pygments_lexer": "ipython3",
   "version": "3.8.10"
  }
 },
 "nbformat": 4,
 "nbformat_minor": 4
}
